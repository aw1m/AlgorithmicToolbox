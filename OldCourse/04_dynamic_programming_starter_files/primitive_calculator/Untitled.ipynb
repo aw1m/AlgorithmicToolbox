{
 "cells": [
  {
   "cell_type": "code",
   "execution_count": 80,
   "metadata": {},
   "outputs": [],
   "source": [
    "n = 5\n",
    "v = [0 for i in range(n+1)]\n",
    "print(n)\n",
    "\n"
   ]
  },
  {
   "cell_type": "code",
   "execution_count": 75,
   "metadata": {},
   "outputs": [],
   "source": [
    "v[0]=1\n",
    "for i in range(1,n+1):\n",
    "    v[i] = v[i-1]+1\n",
    "    \n",
    "    if i%2==0 and v[i//2] < v[i]:\n",
    "        v[i] = v[i//2]+1\n",
    "        \n",
    "    if i%3==0 and v[i//3]  < v[i]:\n",
    "        v[i] = v[i//3] +1  \n",
    "    print(v)\n",
    "results = []\n",
    "while n>1:\n",
    "    print(n)\n",
    "    results.append(n)\n",
    "    if v[n-1] ==v[n]-1:\n",
    "        n = n-1\n",
    "    elif n%2 == 0 and v[n//2]==v[n]-1:\n",
    "        n = n//2\n",
    "    elif n%3== 0 and v[n//3]==v[n]-1:\n",
    "        n = n//3\n",
    "   \n",
    "    print(results)\n",
    "        \n",
    "results.append(1)\n",
    "print(sorted(results, reverse = True))\n",
    "        \n",
    "        \n",
    "    "
   ]
  },
  {
   "cell_type": "code",
   "execution_count": 36,
   "metadata": {},
   "outputs": [
    {
     "name": "stdout",
     "output_type": "stream",
     "text": [
      "3\n",
      "1 2 4 5 "
     ]
    }
   ],
   "source": [
    "def optimal_sequence(n):\n",
    "    sequence = []\n",
    "    while n >= 1:\n",
    "        sequence.append(n)\n",
    "        if n % 3 == 0:\n",
    "            n = n // 3\n",
    "        elif n % 2 == 0:\n",
    "            n = n // 2\n",
    "        else:\n",
    "            n = n - 1\n",
    "    return reversed(sequence)\n",
    "\n",
    "n = 5\n",
    "sequence = list(optimal_sequence(n))\n",
    "print(len(sequence) - 1)\n",
    "for x in sequence:\n",
    "    print(x, end=' ')\n"
   ]
  },
  {
   "cell_type": "code",
   "execution_count": null,
   "metadata": {},
   "outputs": [],
   "source": []
  }
 ],
 "metadata": {
  "kernelspec": {
   "display_name": "Python 3",
   "language": "python",
   "name": "python3"
  },
  "language_info": {
   "codemirror_mode": {
    "name": "ipython",
    "version": 3
   },
   "file_extension": ".py",
   "mimetype": "text/x-python",
   "name": "python",
   "nbconvert_exporter": "python",
   "pygments_lexer": "ipython3",
   "version": "3.6.2"
  }
 },
 "nbformat": 4,
 "nbformat_minor": 2
}
